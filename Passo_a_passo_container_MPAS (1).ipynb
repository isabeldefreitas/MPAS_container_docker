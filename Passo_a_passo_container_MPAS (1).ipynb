{
  "cells": [
    {
      "cell_type": "markdown",
      "metadata": {
        "id": "8a-BwaYbxkp6"
      },
      "source": [
        "Passo a passo para rodar MPAS no container docker"
      ]
    },
    {
      "cell_type": "markdown",
      "metadata": {
        "id": "SgVipUHH2rUg"
      },
      "source": [
        "- Baixar o docker - desktop : https://www.docker.com/"
      ]
    },
    {
      "cell_type": "markdown",
      "metadata": {
        "id": "6Chtc2G53tlV"
      },
      "source": [
        "- Baixar o docker pelo terminal:"
      ]
    },
    {
      "cell_type": "code",
      "execution_count": null,
      "metadata": {
        "id": "R6Yywp0Y3k5A"
      },
      "outputs": [],
      "source": [
        "choco install docker-cli\n",
        "choco install docker-desktop\n",
        "docker --version\n",
        "docker run hello-world #para testar instalação"
      ]
    },
    {
      "cell_type": "markdown",
      "metadata": {
        "id": "XFPM1zvGLPlO"
      },
      "source": [
        "Dockerfile"
      ]
    },
    {
      "cell_type": "code",
      "execution_count": null,
      "metadata": {
        "id": "wAVt69gg3qsq"
      },
      "outputs": [],
      "source": [
        "# Base: LNCC / NVIDIA HPC SDK\n",
        "FROM nvcr.io/nvidia/nvhpc:24.9-devel-cuda12.6-ubuntu22.04\n",
        "\n",
        "# Ajustes iniciais\n",
        "ENV DEBIAN_FRONTEND=noninteractive\n",
        "SHELL [\"/bin/bash\", \"-c\"]\n",
        "\n",
        "# Instalar pacotes básicos\n",
        "RUN apt update -y && apt upgrade -y && apt install -y \\\n",
        "    build-essential \\\n",
        "    curl \\\n",
        "    git \\\n",
        "    libbsd-dev \\\n",
        "    python3 \\\n",
        "    cmake \\\n",
        "    make \\\n",
        "    pkg-config \\\n",
        "    vim \\\n",
        "    environment-modules \\\n",
        "    m4 \\\n",
        "    perl \\\n",
        "    bzip2 \\\n",
        "    wget\n",
        "\n",
        "# Variáveis de compilação\n",
        "ENV NUM_PROCS=8\n",
        "ENV CC=mpicc\n",
        "ENV FC=mpif90\n",
        "ENV CPP=cpp\n",
        "\n",
        "# Criar usuário monan\n",
        "RUN adduser --disabled-password --gecos \"\" monan\n",
        "USER monan\n",
        "WORKDIR /home/monan\n",
        "\n",
        "# Baixar Spack\n",
        "RUN wget https://github.com/spack/spack/releases/download/v0.23.1/spack-0.23.1.tar.gz && \\\n",
        "    tar zxvf spack-0.23.1.tar.gz\n",
        "\n",
        "# Baixar o código MPAS\n",
        "RUN git clone --single-branch --branch branch_v8.2.2 \\\n",
        "    https://github.com/TempoHPC/MPAS-Model.git MPAS-Model_v8.2.2_tempohpc\n",
        "\n",
        "# Configurar ambiente + instalar dependências via Spack\n",
        "RUN bash -c \" \\\n",
        "    source /usr/share/modules/init/bash && \\\n",
        "    module use /opt/nvidia/hpc_sdk/modulefiles && \\\n",
        "    module load nvhpc-openmpi3/24.9 && \\\n",
        "    source spack-0.23.1/share/spack/setup-env.sh && \\\n",
        "    spack compiler find && \\\n",
        "    spack external find m4 && \\\n",
        "    spack external find perl && \\\n",
        "    spack external find cmake && \\\n",
        "    spack external find bzip2 && \\\n",
        "    spack external find openmpi && \\\n",
        "    spack install parallelio%nvhpc@=24.9 ^parallel-netcdf ^netcdf-c@4.9.2~blosc~zstd \\\n",
        "\"\n",
        "\n",
        "# Compilar o MPAS\n",
        "WORKDIR /home/monan/MPAS-Model_v8.2.2_tempohpc\n",
        "RUN git pull && \\\n",
        "    make CORE=atmosphere clean && \\\n",
        "    bash docker/nvhpc_24.9/make.sh\n",
        "\n",
        "# Repetir as etapas diretamente do install.sh\n",
        "WORKDIR /home/monan/MPAS-Model_v8.2.2_tempohpc/docker/nvhpc_24.9\n",
        "RUN bash -c \" \\\n",
        "    source /usr/share/modules/init/bash && \\\n",
        "    module use /opt/nvidia/hpc_sdk/modulefiles && \\\n",
        "    module load nvhpc-openmpi3/24.9 && \\\n",
        "    source /home/monan/spack-0.23.1/share/spack/setup-env.sh && \\\n",
        "    spack compiler find && \\\n",
        "    spack external find m4 && \\\n",
        "    spack external find perl && \\\n",
        "    spack external find cmake && \\\n",
        "    spack external find openmpi && \\\n",
        "    spack external find bzip2 && \\\n",
        "    spack install parallelio%nvhpc@=24.9 ^parallel-netcdf ^netcdf-c@4.9.2~blosc~zstd \\\n",
        "\"\n",
        "\n",
        "# Baixar o benchmark\n",
        "WORKDIR /home/monan\n",
        "RUN wget https://www2.mmm.ucar.edu/projects/mpas/benchmark/v7.0/MPAS-A_benchmark_120km_v7.0.tar.gz && \\\n",
        "    tar -xvzf MPAS-A_benchmark_120km_v7.0.tar.gz\n",
        "\n",
        "# Criar links simbólicos dos arquivos necessários no benchmark\n",
        "WORKDIR /home/monan/MPAS-A_benchmark_120km_v7.0\n",
        "RUN ln -s /home/monan/MPAS-Model_v8.2.2_tempohpc/CAM_ABS_DATA.DBL . && \\\n",
        "    ln -s /home/monan/MPAS-Model_v8.2.2_tempohpc/CAM_AEROPT_DATA.DBL . && \\\n",
        "    ln -s /home/monan/MPAS-Model_v8.2.2_tempohpc/GENPARM.TBL . && \\\n",
        "    ln -s /home/monan/MPAS-Model_v8.2.2_tempohpc/LANDUSE.TBL . && \\\n",
        "    ln -s /home/monan/MPAS-Model_v8.2.2_tempohpc/NoahmpTable.TBL . && \\\n",
        "    ln -s /home/monan/MPAS-Model_v8.2.2_tempohpc/OZONE_DAT.DBL . && \\\n",
        "    ln -s /home/monan/MPAS-Model_v8.2.2_tempohpc/OZONE_LAT.TBL . && \\\n",
        "    ln -s /home/monan/MPAS-Model_v8.2.2_tempohpc/OZONE_PLEV.TBL . && \\\n",
        "    ln -s /home/monan/MPAS-Model_v8.2.2_tempohpc/OZONE_TBL . && \\\n",
        "    ln -s /home/monan/MPAS-Model_v8.2.2_tempohpc/RRTMG_LW_DATA . && \\\n",
        "    ln -s /home/monan/MPAS-Model_v8.2.2_tempohpc/RRTMG_LW_DATA.DBL . && \\\n",
        "    ln -s /home/monan/MPAS-Model_v8.2.2_tempohpc/RRTMG_SW_DATA . && \\\n",
        "    ln -s /home/monan/MPAS-Model_v8.2.2_tempohpc/RRTMG_SW_DATA.DBL . && \\\n",
        "    ln -s /home/monan/MPAS-Model_v8.2.2_tempohpc/SOILPARM.TBL . && \\\n",
        "    ln -s /home/monan/MPAS-Model_v8.2.2_tempohpc/VEGPARM.TBL .\n"
      ]
    },
    {
      "cell_type": "markdown",
      "metadata": {
        "id": "F75I8FIOUhmM"
      },
      "source": [
        "No local do arquivo no terminal, execute o comando abaixo parar criar a imagem:"
      ]
    },
    {
      "cell_type": "code",
      "execution_count": null,
      "metadata": {
        "id": "hghQYN90xk4m"
      },
      "outputs": [],
      "source": [
        "docker build -t mpas:8.2.2 ."
      ]
    },
    {
      "cell_type": "markdown",
      "metadata": {
        "id": "EmGLdPuyUwiY"
      },
      "source": [
        "ou"
      ]
    },
    {
      "cell_type": "code",
      "execution_count": null,
      "metadata": {
        "id": "wJxqi267UyPi"
      },
      "outputs": [],
      "source": [
        "docker build -t mpas:8.2.2 ./Dockerfile"
      ]
    },
    {
      "cell_type": "markdown",
      "metadata": {
        "id": "1Rd2LIv3xgcX"
      },
      "source": [
        "Para rodar o container:  "
      ]
    },
    {
      "cell_type": "code",
      "execution_count": null,
      "metadata": {
        "id": "uAAQ1BjnXJDR"
      },
      "outputs": [],
      "source": [
        "docker run -it --entrypoint bash mpas:8.2.2"
      ]
    }
  ],
  "metadata": {
    "colab": {
      "provenance": []
    },
    "kernelspec": {
      "display_name": "Python 3",
      "name": "python3"
    },
    "language_info": {
      "name": "python"
    }
  },
  "nbformat": 4,
  "nbformat_minor": 0
}
