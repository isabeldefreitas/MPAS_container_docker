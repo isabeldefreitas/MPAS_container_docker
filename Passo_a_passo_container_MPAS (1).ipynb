{
  "cells": [
    {
      "cell_type": "markdown",
      "metadata": {
        "id": "8a-BwaYbxkp6"
      },
      "source": [
        "Passo a passo para rodar MPAS no container docker"
      ]
    },
    {
      "cell_type": "markdown",
      "metadata": {
        "id": "SgVipUHH2rUg"
      },
      "source": [
        "- Baixar o docker - desktop : https://www.docker.com/"
      ]
    },
    {
      "cell_type": "markdown",
      "metadata": {
        "id": "6Chtc2G53tlV"
      },
      "source": [
        "- Baixar o docker pelo terminal:"
      ]
    },
    {
      "cell_type": "code",
      "execution_count": null,
      "metadata": {
        "id": "R6Yywp0Y3k5A"
      },
      "outputs": [],
      "source": [
        "choco install docker-cli\n",
        "choco install docker-desktop\n",
        "docker --version\n",
        "docker run hello-world #para testar instalação"
      ]
    },
    {
      "cell_type": "markdown",
      "metadata": {
        "id": "XFPM1zvGLPlO"
      },
      "source": [
        "Dockerfile"
      ]
    },
    {
      "cell_type": "code",
      "execution_count": null,
      "metadata": {
        "id": "wAVt69gg3qsq"
      },
      "outputs": [],
      "source": [
        "# docker build -t mpas:8.2.2 .\n",
        "# docker run --gpus all -it --entrypoint bash mpas:8.2.2\n",
        "# docker run --gpus all -it --entrypoint bash --rm mpas:8.2.2\n",
        "# docker exec -i -t <container_name> bash\n",
        "\n",
        "# Base: LNCC / NVIDIA HPC SDK\n",
        "FROM nvcr.io/nvidia/nvhpc:24.9-devel-cuda12.6-ubuntu22.04\n",
        "\n",
        "ENV DEBIAN_FRONTEND=noninteractive\n",
        "SHELL [\"/bin/bash\", \"-c\"]\n",
        "\n",
        "# Instalar pacotes básicos\n",
        "RUN apt update -y && apt upgrade -y && apt install -y \\\n",
        "    build-essential \\\n",
        "    curl \\\n",
        "    git \\\n",
        "    libbsd-dev \\\n",
        "    python3 \\\n",
        "    cmake \\\n",
        "    make \\\n",
        "    pkg-config \\\n",
        "    vim \\\n",
        "    environment-modules \\\n",
        "    m4 \\\n",
        "    perl \\\n",
        "    bzip2 \\\n",
        "    wget\n",
        "\n",
        "# Variáveis de compilação\n",
        "ENV NUM_PROCS=8\n",
        "ENV CC=mpicc\n",
        "ENV FC=mpif90\n",
        "ENV CPP=cpp\n",
        "\n",
        "# Criar usuário\n",
        "RUN adduser --disabled-password --gecos \"\" monan\n",
        "USER monan\n",
        "WORKDIR /home/monan\n",
        "\n",
        "# Baixar Spack\n",
        "RUN wget https://github.com/spack/spack/releases/download/v0.23.1/spack-0.23.1.tar.gz && \\\n",
        "    tar zxvf spack-0.23.1.tar.gz\n",
        "\n",
        "# Clonar o repositório\n",
        "RUN git clone --single-branch --branch branch_v8.2.2 \\\n",
        "    https://github.com/TempoHPC/MPAS-Model.git MPAS-Model_v8.2.2_tempohpc\n",
        "\n",
        "# Configurar ambiente e instalar dependências (respeitando a sequência que você passou)\n",
        "RUN bash -c \" \\\n",
        "    cd && \\\n",
        "    echo \\$USER && \\\n",
        "    echo \\$HOME && \\\n",
        "    source /usr/share/modules/init/bash && \\\n",
        "    module use /opt/nvidia/hpc_sdk/modulefiles && \\\n",
        "    module load nvhpc-openmpi3/24.9 && \\\n",
        "    source spack-0.23.1/share/spack/setup-env.sh && \\\n",
        "    source ./MPAS-Model_v8.2.2_tempohpc/docker/nvhpc_24.9/env.sh && \\\n",
        "    source ./MPAS-Model_v8.2.2_tempohpc/docker/nvhpc_24.9/install.sh \\\n",
        "\"\n",
        "\n",
        "# Compilar o MPAS\n",
        "WORKDIR /home/monan/MPAS-Model_v8.2.2_tempohpc\n",
        "RUN make CORE=atmosphere clean && \\\n",
        "    bash docker/nvhpc_24.9/make.sh\n",
        "\n",
        "# Baixar o benchmark\n",
        "WORKDIR /home/monan\n",
        "RUN wget https://www2.mmm.ucar.edu/projects/mpas/benchmark/v7.0/MPAS-A_benchmark_120km_v7.0.tar.gz && \\\n",
        "    tar -xvzf MPAS-A_benchmark_120km_v7.0.tar.gz\n",
        "\n",
        "# Criar links simbólicos após a instalação\n",
        "WORKDIR /home/monan/MPAS-A_benchmark_120km_v7.0\n",
        "RUN for file in CAM_ABS_DATA.DBL CAM_AEROPT_DATA.DBL GENPARM.TBL LANDUSE.TBL NoahmpTable.TBL \\\n",
        "                OZONE_DAT.DBL OZONE_LAT.TBL OZONE_PLEV.TBL OZONE_TBL \\\n",
        "                RRTMG_LW_DATA RRTMG_LW_DATA.DBL RRTMG_SW_DATA RRTMG_SW_DATA.DBL \\\n",
        "                SOILPARM.TBL VEGPARM.TBL; do \\\n",
        "        if [ -e \"/home/monan/MPAS-Model_v8.2.2_tempohpc/$file\" ]; then \\\n",
        "            ln -sf \"/home/monan/MPAS-Model_v8.2.2_tempohpc/$file\" .; \\\n",
        "        else \\\n",
        "            echo \"Arquivo $file não encontrado, ignorando...\"; \\\n",
        "        fi; \\\n",
        "    done\n"
      ]
    },
    {
      "cell_type": "markdown",
      "metadata": {
        "id": "F75I8FIOUhmM"
      },
      "source": [
        "No local do arquivo no terminal, execute o comando abaixo parar criar a imagem:"
      ]
    },
    {
      "cell_type": "code",
      "execution_count": null,
      "metadata": {
        "id": "hghQYN90xk4m"
      },
      "outputs": [],
      "source": [
        "docker build -t mpas:8.2.2 ."
      ]
    },
    {
      "cell_type": "markdown",
      "metadata": {
        "id": "EmGLdPuyUwiY"
      },
      "source": [
        "ou"
      ]
    },
    {
      "cell_type": "code",
      "execution_count": null,
      "metadata": {
        "id": "wJxqi267UyPi"
      },
      "outputs": [],
      "source": [
        "docker build -t mpas:8.2.2 ./Dockerfile"
      ]
    },
    {
      "cell_type": "markdown",
      "metadata": {
        "id": "1Rd2LIv3xgcX"
      },
      "source": [
        "Para rodar o container:  "
      ]
    },
    {
      "cell_type": "code",
      "execution_count": null,
      "metadata": {
        "id": "uAAQ1BjnXJDR"
      },
      "outputs": [],
      "source": [
        "docker run -it --entrypoint bash mpas:8.2.2"
      ]
    }
  ],
  "metadata": {
    "colab": {
      "provenance": []
    },
    "kernelspec": {
      "display_name": "Python 3",
      "name": "python3"
    },
    "language_info": {
      "name": "python"
    }
  },
  "nbformat": 4,
  "nbformat_minor": 0
}
