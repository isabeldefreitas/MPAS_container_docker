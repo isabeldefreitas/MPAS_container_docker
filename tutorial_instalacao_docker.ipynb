{
 "cells": [
  {
   "cell_type": "markdown",
   "id": "d7f7e1f0",
   "metadata": {},
   "source": [
    "# Tutorial de Instalação do Docker e criação container MPAS"
   ]
  },
  {
   "cell_type": "markdown",
   "id": "8a999d06",
   "metadata": {},
   "source": [
    "Este notebook fornece um guia passo a passo para instalar o Docker em sistemas **Ubuntu (Linux)**, **Windows** e **macOS**."
   ]
  },
  {
   "cell_type": "markdown",
   "id": "e74c9007",
   "metadata": {},
   "source": [
    "##  Instalação no Ubuntu (20.04 ou superior)"
   ]
  },
  {
   "cell_type": "markdown",
   "id": "334b56f3",
   "metadata": {},
   "source": [
    "### 1. Atualize os pacotes existentes"
   ]
  },
  {
   "cell_type": "code",
   "execution_count": null,
   "id": "b6b9dd2a",
   "metadata": {},
   "outputs": [],
   "source": [
    "sudo apt update\n",
    "sudo apt upgrade"
   ]
  },
  {
   "cell_type": "markdown",
   "id": "b06c240f",
   "metadata": {},
   "source": [
    "### 2. Instale dependências"
   ]
  },
  {
   "cell_type": "code",
   "execution_count": null,
   "id": "10fa40da",
   "metadata": {},
   "outputs": [],
   "source": [
    "sudo apt install ca-certificates curl gnupg lsb-release"
   ]
  },
  {
   "cell_type": "markdown",
   "id": "460a4f6e",
   "metadata": {},
   "source": [
    "### 3. Adicione a chave GPG oficial do Docker"
   ]
  },
  {
   "cell_type": "code",
   "execution_count": null,
   "id": "3c43933d",
   "metadata": {},
   "outputs": [],
   "source": [
    "sudo mkdir -p /etc/apt/keyrings\n",
    "curl -fsSL https://download.docker.com/linux/ubuntu/gpg | sudo gpg --dearmor -o /etc/apt/keyrings/docker.gpg"
   ]
  },
  {
   "cell_type": "markdown",
   "id": "8e9590ce",
   "metadata": {},
   "source": [
    "### 4. Adicione o repositório do Docker"
   ]
  },
  {
   "cell_type": "code",
   "execution_count": null,
   "id": "be61aef7",
   "metadata": {},
   "outputs": [],
   "source": [
    "echo \\\n",
    "  \"deb [arch=$(dpkg --print-architecture) signed-by=/etc/apt/keyrings/docker.gpg] https://download.docker.com/linux/ubuntu \\\n",
    "  $(lsb_release -cs) stable\" | \\\n",
    "  sudo tee /etc/apt/sources.list.d/docker.list > /dev/null"
   ]
  },
  {
   "cell_type": "markdown",
   "id": "6932cc23",
   "metadata": {},
   "source": [
    "### 5. Instale o Docker Engine"
   ]
  },
  {
   "cell_type": "code",
   "execution_count": null,
   "id": "ade09f61",
   "metadata": {},
   "outputs": [],
   "source": [
    "sudo apt update\n",
    "sudo apt install docker-ce docker-ce-cli containerd.io docker-buildx-plugin docker-compose-plugin"
   ]
  },
  {
   "cell_type": "markdown",
   "id": "397858cc",
   "metadata": {},
   "source": [
    "### 6. Verifique a instalação"
   ]
  },
  {
   "cell_type": "code",
   "execution_count": null,
   "id": "fa87f273",
   "metadata": {},
   "outputs": [],
   "source": [
    "sudo docker run hello-world"
   ]
  },
  {
   "cell_type": "markdown",
   "id": "c843afbc",
   "metadata": {},
   "source": [
    "### 7. (Opcional) Usar Docker sem `sudo`"
   ]
  },
  {
   "cell_type": "code",
   "execution_count": null,
   "id": "12fd7274",
   "metadata": {},
   "outputs": [],
   "source": [
    "sudo usermod -aG docker $USER\n",
    "newgrp docker"
   ]
  },
  {
   "cell_type": "markdown",
   "id": "4e0b8911",
   "metadata": {},
   "source": [
    "## 🪟 Instalação no Windows (10 ou 11, 64 bits, com WSL 2)"
   ]
  },
  {
   "cell_type": "markdown",
   "id": "690206cb",
   "metadata": {},
   "source": [
    "### 1. Pré-requisitos"
   ]
  },
  {
   "cell_type": "code",
   "execution_count": null,
   "id": "158289de",
   "metadata": {},
   "outputs": [],
   "source": [
    "- Virtualização ativada no BIOS\n",
    "- [WSL 2 instalado](https://learn.microsoft.com/pt-br/windows/wsl/install)"
   ]
  },
  {
   "cell_type": "markdown",
   "id": "c643ed8e",
   "metadata": {},
   "source": [
    "### 2. Baixe o Docker Desktop"
   ]
  },
  {
   "cell_type": "code",
   "execution_count": null,
   "id": "33dc5d20",
   "metadata": {},
   "outputs": [],
   "source": [
    "[Docker Desktop para Windows](https://desktop.docker.com/win/main/amd64/Docker%20Desktop%20Installer.exe)"
   ]
  },
  {
   "cell_type": "markdown",
   "id": "483ce5b2",
   "metadata": {},
   "source": [
    "### 3. Instale normalmente como qualquer programa"
   ]
  },
  {
   "cell_type": "markdown",
   "id": "6ff7274a",
   "metadata": {},
   "source": [
    "### 4. Reinicie o sistema, se necessário"
   ]
  },
  {
   "cell_type": "markdown",
   "id": "7aad0fb0",
   "metadata": {},
   "source": [
    "### 5. Verifique a instalação"
   ]
  },
  {
   "cell_type": "code",
   "execution_count": null,
   "id": "6bd42090",
   "metadata": {},
   "outputs": [],
   "source": [
    "docker --version\n",
    "docker run hello-world"
   ]
  }
 ],
 "metadata": {
  "kernelspec": {
   "display_name": "Bash",
   "language": "bash",
   "name": "bash"
  }
 },
 "nbformat": 4,
 "nbformat_minor": 5
}
